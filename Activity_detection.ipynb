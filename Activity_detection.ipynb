{
 "cells": [
  {
   "cell_type": "markdown",
   "metadata": {},
   "source": [
    "## Activity Detection Using ML"
   ]
  },
  {
   "cell_type": "markdown",
   "metadata": {},
   "source": [
    "### About data set \n",
    "The raw sensor data is located in the directory. Each user has its own data file which is tagged with their\n",
    "subject id, the sensor, and the device. Within the data file, each line is:\n",
    "Subject-id, Activity Label, Timestamp, x, y, z\n",
    "The features are defined as follows:\n",
    "subject-id: Identifies the subject and is an integer value between 1600 and 1650.\n",
    "activity-label: see Table 2 for a mapping from 18 characters to the activity name\n",
    "timestamp: time that the reading was taken (Unix Time)\n",
    "x: x sensor value (real valued)\n",
    "y: y sensor value (real valued)\n",
    "z: z sensor value (real valued)\n"
   ]
  },
  {
   "cell_type": "markdown",
   "metadata": {},
   "source": [
    "### Importing libraries"
   ]
  },
  {
   "cell_type": "code",
   "execution_count": 45,
   "metadata": {},
   "outputs": [],
   "source": [
    "import pandas as pd\n",
    "import numpy\n",
    "import os\n",
    "from datetime import datetime"
   ]
  },
  {
   "cell_type": "markdown",
   "metadata": {},
   "source": [
    "#### Combining the data coming from particular sensor "
   ]
  },
  {
   "cell_type": "code",
   "execution_count": 46,
   "metadata": {},
   "outputs": [],
   "source": [
    "def combinedata(path):\n",
    "    \n",
    "    columns=['subject','activity','time','x','y','z']\n",
    "    data = pd.DataFrame(data=None,columns=columns)\n",
    "    for dirname, _, filenames in os.walk(path):\n",
    "        for filename in filenames:\n",
    "            df = pd.read_csv(path + '//' + filename , sep=\",\", header=None)\n",
    "            temp=pd.DataFrame(data=df.values, columns=columns)\n",
    "            data=pd.concat([data,temp])\n",
    "                    \n",
    "    return data"
   ]
  },
  {
   "cell_type": "code",
   "execution_count": 47,
   "metadata": {},
   "outputs": [
    {
     "name": "stdout",
     "output_type": "stream",
     "text": [
      "<class 'pandas.core.frame.DataFrame'>\n",
      "Int64Index: 1580245 entries, 0 to 81458\n",
      "Data columns (total 6 columns):\n",
      " #   Column    Non-Null Count    Dtype \n",
      "---  ------    --------------    ----- \n",
      " 0   subject   1580245 non-null  object\n",
      " 1   activity  1580245 non-null  object\n",
      " 2   time      1580245 non-null  object\n",
      " 3   x         1580245 non-null  object\n",
      " 4   y         1580245 non-null  object\n",
      " 5   z         1580245 non-null  object\n",
      "dtypes: object(6)\n",
      "memory usage: 84.4+ MB\n"
     ]
    }
   ],
   "source": [
    "trainphoneaccel = combinedata('C:/Users/Ajit/Desktop/pingala/Data/raw/train/phone/accel')\n",
    "trainphoneaccel.info()"
   ]
  },
  {
   "cell_type": "code",
   "execution_count": 48,
   "metadata": {},
   "outputs": [
    {
     "name": "stdout",
     "output_type": "stream",
     "text": [
      "<class 'pandas.core.frame.DataFrame'>\n",
      "Int64Index: 1387312 entries, 0 to 81198\n",
      "Data columns (total 6 columns):\n",
      " #   Column    Non-Null Count    Dtype \n",
      "---  ------    --------------    ----- \n",
      " 0   subject   1387312 non-null  object\n",
      " 1   activity  1387312 non-null  object\n",
      " 2   time      1387312 non-null  object\n",
      " 3   x         1387312 non-null  object\n",
      " 4   y         1387312 non-null  object\n",
      " 5   z         1387312 non-null  object\n",
      "dtypes: object(6)\n",
      "memory usage: 74.1+ MB\n"
     ]
    }
   ],
   "source": [
    "trainphonegyro=combinedata('C:/Users/Ajit/Desktop/pingala/Data/raw/train/phone/gyro')\n",
    "trainphonegyro.info()"
   ]
  },
  {
   "cell_type": "code",
   "execution_count": 49,
   "metadata": {},
   "outputs": [],
   "source": [
    "trainwatchaccel = combinedata('C:/Users/Ajit/Desktop/pingala/Data/raw/train/watch/accel')"
   ]
  },
  {
   "cell_type": "code",
   "execution_count": 50,
   "metadata": {},
   "outputs": [],
   "source": [
    "trainwatchgyro = combinedata('C:/Users/Ajit/Desktop/pingala/Data/raw/train/watch/gyro')"
   ]
  },
  {
   "cell_type": "markdown",
   "metadata": {},
   "source": [
    "#### Function to change the data type of x, y and z columns"
   ]
  },
  {
   "cell_type": "code",
   "execution_count": 51,
   "metadata": {},
   "outputs": [],
   "source": [
    "def change_type(data):\n",
    "    data['z'] = data['z'].str.replace(';','')\n",
    "    data['x']=data['x'].astype('float')\n",
    "    data['y']=data['y'].astype('float')\n",
    "    data['z']=data['z'].astype('float')\n",
    "\n",
    "    return data"
   ]
  },
  {
   "cell_type": "code",
   "execution_count": 52,
   "metadata": {},
   "outputs": [],
   "source": [
    "trainphoneaccel=change_type(trainphoneaccel)\n",
    "trainphonegyro=change_type(trainphonegyro)\n",
    "trainwatchaccel=change_type(trainwatchaccel)\n",
    "trainwatchgyro=change_type(trainwatchgyro)"
   ]
  },
  {
   "cell_type": "code",
   "execution_count": 53,
   "metadata": {},
   "outputs": [
    {
     "name": "stdout",
     "output_type": "stream",
     "text": [
      "<class 'pandas.core.frame.DataFrame'>\n",
      "Int64Index: 1303438 entries, 0 to 64832\n",
      "Data columns (total 6 columns):\n",
      " #   Column    Non-Null Count    Dtype  \n",
      "---  ------    --------------    -----  \n",
      " 0   subject   1303438 non-null  object \n",
      " 1   activity  1303438 non-null  object \n",
      " 2   time      1303438 non-null  object \n",
      " 3   x         1303438 non-null  float64\n",
      " 4   y         1303438 non-null  float64\n",
      " 5   z         1303438 non-null  float64\n",
      "dtypes: float64(3), object(3)\n",
      "memory usage: 69.6+ MB\n"
     ]
    }
   ],
   "source": [
    "trainwatchgyro.info()"
   ]
  },
  {
   "cell_type": "markdown",
   "metadata": {},
   "source": [
    "#### Concatenation of all training data"
   ]
  },
  {
   "cell_type": "code",
   "execution_count": 76,
   "metadata": {},
   "outputs": [
    {
     "name": "stdout",
     "output_type": "stream",
     "text": [
      "<class 'pandas.core.frame.DataFrame'>\n",
      "Int64Index: 5575010 entries, 0 to 64832\n",
      "Data columns (total 6 columns):\n",
      " #   Column    Dtype  \n",
      "---  ------    -----  \n",
      " 0   subject   object \n",
      " 1   activity  object \n",
      " 2   time      object \n",
      " 3   x         float64\n",
      " 4   y         float64\n",
      " 5   z         float64\n",
      "dtypes: float64(3), object(3)\n",
      "memory usage: 297.7+ MB\n"
     ]
    },
    {
     "data": {
      "text/plain": [
       "<bound method NDFrame.head of       subject activity             time         x          y         z\n",
       "0        1600        A  252207666810782 -0.364761   8.793503  1.055084\n",
       "1        1600        A  252207717164786 -0.879730   9.768784  1.016998\n",
       "2        1600        A  252207767518790  2.001495  11.109070  2.619156\n",
       "3        1600        A  252207817872794  0.450623  12.651642  0.184555\n",
       "4        1600        A  252207868226798 -2.164352  13.928436 -4.422485\n",
       "...       ...      ...              ...       ...        ...       ...\n",
       "64828    1619        S  350830146796403 -1.051321   0.374564  0.203493\n",
       "64829    1619        S  350830196752313 -1.363450   0.417187  0.263148\n",
       "64830    1619        S  350830246708223 -1.190877   0.570585  0.314280\n",
       "64831    1619        S  350830296664133 -0.356775   0.516256  0.253560\n",
       "64832    1619        S  350830346620043 -0.049979   0.343683  0.067139\n",
       "\n",
       "[5575010 rows x 6 columns]>"
      ]
     },
     "execution_count": 76,
     "metadata": {},
     "output_type": "execute_result"
    }
   ],
   "source": [
    "train_data=pd.concat([trainphoneaccel,trainphonegyro,trainwatchaccel,trainwatchgyro])\n",
    "train_data.info()\n",
    "train_data.head"
   ]
  },
  {
   "cell_type": "markdown",
   "metadata": {},
   "source": [
    "#### Similarly for test data :- First combine the data for particular sensor and then concatenate them"
   ]
  },
  {
   "cell_type": "code",
   "execution_count": 55,
   "metadata": {},
   "outputs": [],
   "source": [
    "testphoneaccel = combinedata('C:/Users/Ajit/Desktop/pingala/Data/raw/test/phone/accel')\n",
    "testphonegyro=combinedata('C:/Users/Ajit/Desktop/pingala/Data/raw/test/phone/gyro')\n",
    "testwatchaccel = combinedata('C:/Users/Ajit/Desktop/pingala/Data/raw/test/watch/accel')\n",
    "testwatchgyro = combinedata('C:/Users/Ajit/Desktop/pingala/Data/raw/test/watch/gyro')"
   ]
  },
  {
   "cell_type": "code",
   "execution_count": 56,
   "metadata": {},
   "outputs": [],
   "source": [
    "testphoneaccel=change_type(testphoneaccel)\n",
    "testphonegyro=change_type(testphonegyro)\n",
    "testwatchaccel=change_type(testwatchaccel)\n",
    "testwatchgyro=change_type(testwatchgyro)\n"
   ]
  },
  {
   "cell_type": "code",
   "execution_count": 57,
   "metadata": {},
   "outputs": [
    {
     "name": "stdout",
     "output_type": "stream",
     "text": [
      "<class 'pandas.core.frame.DataFrame'>\n",
      "Int64Index: 997751 entries, 0 to 64853\n",
      "Data columns (total 6 columns):\n",
      " #   Column    Non-Null Count   Dtype  \n",
      "---  ------    --------------   -----  \n",
      " 0   subject   997751 non-null  object \n",
      " 1   activity  997751 non-null  object \n",
      " 2   time      997751 non-null  object \n",
      " 3   x         997751 non-null  float64\n",
      " 4   y         997751 non-null  float64\n",
      " 5   z         997751 non-null  float64\n",
      "dtypes: float64(3), object(3)\n",
      "memory usage: 53.3+ MB\n"
     ]
    }
   ],
   "source": [
    "testwatchgyro.info()"
   ]
  },
  {
   "cell_type": "code",
   "execution_count": 58,
   "metadata": {},
   "outputs": [
    {
     "name": "stdout",
     "output_type": "stream",
     "text": [
      "<class 'pandas.core.frame.DataFrame'>\n",
      "Int64Index: 4266331 entries, 0 to 64853\n",
      "Data columns (total 6 columns):\n",
      " #   Column    Dtype  \n",
      "---  ------    -----  \n",
      " 0   subject   object \n",
      " 1   activity  object \n",
      " 2   time      object \n",
      " 3   x         float64\n",
      " 4   y         float64\n",
      " 5   z         float64\n",
      "dtypes: float64(3), object(3)\n",
      "memory usage: 227.8+ MB\n"
     ]
    },
    {
     "data": {
      "text/plain": [
       "<bound method NDFrame.head of       subject activity             time         x          y         z\n",
       "0        1620        A  938034649865917  6.130188   5.923340 -0.791870\n",
       "1        1620        A  938034700219921  9.979980  10.531952 -2.961151\n",
       "2        1620        A  938034717004589  7.232987  11.211700 -0.783981\n",
       "3        1620        A  938034767358593  6.013000   9.329330 -1.070175\n",
       "4        1620        A  938034784143261  5.563065   7.343353 -4.254425\n",
       "...       ...      ...              ...       ...        ...       ...\n",
       "64849    1633        S  697019338580377 -1.073295  -0.204933 -0.385017\n",
       "64850    1633        S  697019388505837  0.467077  -0.545817 -0.487282\n",
       "64851    1633        S  697019438431297  0.801570  -0.868592 -0.810057\n",
       "64852    1633        S  697019488356757  1.715567  -1.226521 -1.232967\n",
       "64853    1633        S  697019538282217  1.811441  -1.753827 -1.964804\n",
       "\n",
       "[4266331 rows x 6 columns]>"
      ]
     },
     "execution_count": 58,
     "metadata": {},
     "output_type": "execute_result"
    }
   ],
   "source": [
    "test_data=pd.concat([testphoneaccel,testphonegyro,testwatchaccel,testwatchgyro])\n",
    "test_data.info()\n",
    "test_data.head"
   ]
  },
  {
   "cell_type": "markdown",
   "metadata": {},
   "source": [
    "#### Changing the data type of time column"
   ]
  },
  {
   "cell_type": "code",
   "execution_count": 63,
   "metadata": {},
   "outputs": [
    {
     "name": "stdout",
     "output_type": "stream",
     "text": [
      "<class 'pandas.core.frame.DataFrame'>\n",
      "Int64Index: 4266331 entries, 0 to 64853\n",
      "Data columns (total 6 columns):\n",
      " #   Column    Dtype  \n",
      "---  ------    -----  \n",
      " 0   subject   object \n",
      " 1   activity  object \n",
      " 2   time      int64  \n",
      " 3   x         float64\n",
      " 4   y         float64\n",
      " 5   z         float64\n",
      "dtypes: float64(3), int64(1), object(2)\n",
      "memory usage: 227.8+ MB\n"
     ]
    }
   ],
   "source": [
    "train_data['time'] = pd.to_numeric(train_data['time'])\n",
    "test_data['time'] = pd.to_numeric(test_data['time'])\n",
    "\n",
    "test_data.info()"
   ]
  },
  {
   "cell_type": "markdown",
   "metadata": {},
   "source": [
    "#### Breaking the time value into year, month, week, day, hour, minute and second format"
   ]
  },
  {
   "cell_type": "code",
   "execution_count": 64,
   "metadata": {},
   "outputs": [],
   "source": [
    "train_data['time'] = train_data['time'].apply(lambda x: x//1000000)\n",
    "train_data['time'] = train_data['time'].apply(lambda x: datetime.fromtimestamp(x))\n",
    "test_data['time'] = test_data['time'].apply(lambda x: x//1000000)\n",
    "test_data['time'] = test_data['time'].apply(lambda x: datetime.fromtimestamp(x))\n",
    "train_data.drop(columns=\"subject\",inplace=True)\n",
    "test_data.drop(columns=\"subject\",inplace=True)"
   ]
  },
  {
   "cell_type": "code",
   "execution_count": 65,
   "metadata": {},
   "outputs": [
    {
     "name": "stderr",
     "output_type": "stream",
     "text": [
      "C:\\Users\\Ajit\\.conda\\envs\\tensorflow_env\\lib\\site-packages\\ipykernel_launcher.py:2: FutureWarning: Series.dt.weekofyear and Series.dt.week have been deprecated.  Please use Series.dt.isocalendar().week instead.\n",
      "  \n",
      "C:\\Users\\Ajit\\.conda\\envs\\tensorflow_env\\lib\\site-packages\\ipykernel_launcher.py:6: FutureWarning: Series.dt.weekofyear and Series.dt.week have been deprecated.  Please use Series.dt.isocalendar().week instead.\n",
      "  \n"
     ]
    }
   ],
   "source": [
    "for time in ('year','month','week','day','hour','minute','second'):\n",
    "    train_data[time] = getattr(train_data['time'].dt,time)\n",
    "train_data.drop(columns=\"time\",inplace=True)\n",
    "\n",
    "for time in ('year','month','week','day','hour','minute','second'):\n",
    "    test_data[time] = getattr(test_data['time'].dt,time)\n",
    "test_data.drop(columns=\"time\",inplace=True)"
   ]
  },
  {
   "cell_type": "code",
   "execution_count": 66,
   "metadata": {},
   "outputs": [
    {
     "data": {
      "text/plain": [
       "<bound method NDFrame.head of       activity         x          y         z  year  month  week  day  hour  \\\n",
       "0            A -0.364761   8.793503  1.055084  1977     12    52   29     7   \n",
       "1            A -0.879730   9.768784  1.016998  1977     12    52   29     7   \n",
       "2            A  2.001495  11.109070  2.619156  1977     12    52   29     7   \n",
       "3            A  0.450623  12.651642  0.184555  1977     12    52   29     7   \n",
       "4            A -2.164352  13.928436 -4.422485  1977     12    52   29     7   \n",
       "...        ...       ...        ...       ...   ...    ...   ...  ...   ...   \n",
       "64828        S -1.051321   0.374564  0.203493  1981      2     7   12    18   \n",
       "64829        S -1.363450   0.417187  0.263148  1981      2     7   12    18   \n",
       "64830        S -1.190877   0.570585  0.314280  1981      2     7   12    18   \n",
       "64831        S -0.356775   0.516256  0.253560  1981      2     7   12    18   \n",
       "64832        S -0.049979   0.343683  0.067139  1981      2     7   12    18   \n",
       "\n",
       "       minute  second  \n",
       "0          11       6  \n",
       "1          11      57  \n",
       "2          12      47  \n",
       "3          13      37  \n",
       "4          14      28  \n",
       "...       ...     ...  \n",
       "64828      19       6  \n",
       "64829      19      56  \n",
       "64830      20      46  \n",
       "64831      21      36  \n",
       "64832      22      26  \n",
       "\n",
       "[5575010 rows x 11 columns]>"
      ]
     },
     "execution_count": 66,
     "metadata": {},
     "output_type": "execute_result"
    }
   ],
   "source": [
    "train_data.head"
   ]
  },
  {
   "cell_type": "markdown",
   "metadata": {},
   "source": [
    "### importing libraries for model building and model evaluation "
   ]
  },
  {
   "cell_type": "code",
   "execution_count": 67,
   "metadata": {},
   "outputs": [],
   "source": [
    "from sklearn.preprocessing import LabelEncoder\n",
    "from sklearn.model_selection import train_test_split\n",
    "from sklearn.ensemble import RandomForestClassifier\n",
    "from sklearn.metrics import accuracy_score"
   ]
  },
  {
   "cell_type": "markdown",
   "metadata": {},
   "source": [
    "#### label the 'activity' value from categorical to numeric "
   ]
  },
  {
   "cell_type": "code",
   "execution_count": 69,
   "metadata": {},
   "outputs": [],
   "source": [
    "label = LabelEncoder()\n",
    "train_data['activity'] = label.fit_transform(train_data['activity']) \n",
    "test_data['activity'] = label.fit_transform(test_data['activity']) "
   ]
  },
  {
   "cell_type": "markdown",
   "metadata": {},
   "source": [
    "#### Combining the training and test data"
   ]
  },
  {
   "cell_type": "code",
   "execution_count": 72,
   "metadata": {},
   "outputs": [
    {
     "name": "stdout",
     "output_type": "stream",
     "text": [
      "<class 'pandas.core.frame.DataFrame'>\n",
      "Int64Index: 9841341 entries, 0 to 4266330\n",
      "Data columns (total 11 columns):\n",
      " #   Column    Dtype  \n",
      "---  ------    -----  \n",
      " 0   activity  int64  \n",
      " 1   x         float64\n",
      " 2   y         float64\n",
      " 3   z         float64\n",
      " 4   year      int64  \n",
      " 5   month     int64  \n",
      " 6   week      int64  \n",
      " 7   day       int64  \n",
      " 8   hour      int64  \n",
      " 9   minute    int64  \n",
      " 10  second    int64  \n",
      "dtypes: float64(3), int64(8)\n",
      "memory usage: 901.0 MB\n"
     ]
    }
   ],
   "source": [
    "train_data = train_data.sample(frac=1).reset_index(drop=True)\n",
    "test_data = test_data.sample(frac=1).reset_index(drop=True)\n",
    "data=pd.DataFrame()\n",
    "data=pd.concat([train_data,test_data])\n",
    "data.info()"
   ]
  },
  {
   "cell_type": "markdown",
   "metadata": {},
   "source": [
    "#### Spliting the data into training and test set"
   ]
  },
  {
   "cell_type": "code",
   "execution_count": 73,
   "metadata": {},
   "outputs": [],
   "source": [
    "y=data[\"activity\"]\n",
    "x=data.drop(columns=\"activity\")\n",
    "x_train, x_test, y_train, y_test = train_test_split(x,y,train_size = 0.7, random_state =  42)"
   ]
  },
  {
   "cell_type": "markdown",
   "metadata": {},
   "source": [
    "#### Initialize the model and train our model"
   ]
  },
  {
   "cell_type": "code",
   "execution_count": 74,
   "metadata": {},
   "outputs": [
    {
     "data": {
      "text/plain": [
       "RandomForestClassifier()"
      ]
     },
     "execution_count": 74,
     "metadata": {},
     "output_type": "execute_result"
    }
   ],
   "source": [
    "model = RandomForestClassifier()\n",
    "model.fit(x_train, y_train)\n"
   ]
  },
  {
   "cell_type": "markdown",
   "metadata": {},
   "source": [
    "#### Predicting the output and calculating the Accuracy score"
   ]
  },
  {
   "cell_type": "code",
   "execution_count": 75,
   "metadata": {},
   "outputs": [
    {
     "data": {
      "text/plain": [
       "0.975614778876732"
      ]
     },
     "execution_count": 75,
     "metadata": {},
     "output_type": "execute_result"
    }
   ],
   "source": [
    "y_pred=model.predict(x_test)\n",
    "acc=accuracy_score(y_test,y_pred)\n",
    "acc"
   ]
  },
  {
   "cell_type": "markdown",
   "metadata": {},
   "source": [
    "## Thank you"
   ]
  },
  {
   "cell_type": "code",
   "execution_count": null,
   "metadata": {},
   "outputs": [],
   "source": []
  }
 ],
 "metadata": {
  "kernelspec": {
   "display_name": "Python 3",
   "language": "python",
   "name": "python3"
  },
  "language_info": {
   "codemirror_mode": {
    "name": "ipython",
    "version": 3
   },
   "file_extension": ".py",
   "mimetype": "text/x-python",
   "name": "python",
   "nbconvert_exporter": "python",
   "pygments_lexer": "ipython3",
   "version": "3.6.10"
  }
 },
 "nbformat": 4,
 "nbformat_minor": 4
}
